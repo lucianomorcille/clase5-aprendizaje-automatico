{
 "cells": [
  {
   "cell_type": "code",
   "execution_count": 23,
   "id": "4c2033c2-4960-4efc-a1bf-98071589a299",
   "metadata": {},
   "outputs": [],
   "source": [
    "# Importar librerías necesarias\n",
    "import seaborn as sns\n",
    "import pandas as pd\n",
    "import matplotlib.pyplot as plt\n",
    "from sklearn.model_selection import train_test_split\n",
    "from sklearn.preprocessing import StandardScaler, LabelEncoder\n",
    "from sklearn.tree import DecisionTreeClassifier\n",
    "from sklearn.neighbors import KNeighborsClassifier\n",
    "from sklearn.metrics import accuracy_score, confusion_matrix, classification_report\n",
    "from sklearn import tree"
   ]
  },
  {
   "cell_type": "code",
   "execution_count": 25,
   "id": "e9e6e2ee-0bc0-453c-ade8-57e2ada4b022",
   "metadata": {},
   "outputs": [
    {
     "name": "stdout",
     "output_type": "stream",
     "text": [
      "   survived  pclass     sex   age  sibsp  parch     fare embarked  class  \\\n",
      "0         0       3    male  22.0      1      0   7.2500        S  Third   \n",
      "1         1       1  female  38.0      1      0  71.2833        C  First   \n",
      "2         1       3  female  26.0      0      0   7.9250        S  Third   \n",
      "3         1       1  female  35.0      1      0  53.1000        S  First   \n",
      "4         0       3    male  35.0      0      0   8.0500        S  Third   \n",
      "\n",
      "     who  adult_male deck  embark_town alive  alone  \n",
      "0    man        True  NaN  Southampton    no  False  \n",
      "1  woman       False    C    Cherbourg   yes  False  \n",
      "2  woman       False  NaN  Southampton   yes   True  \n",
      "3  woman       False    C  Southampton   yes  False  \n",
      "4    man        True  NaN  Southampton    no   True  \n"
     ]
    }
   ],
   "source": [
    "# Cargar dataset Titanic\n",
    "df = sns.load_dataset(\"titanic\")\n",
    "print(df.head())"
   ]
  },
  {
   "cell_type": "code",
   "execution_count": 27,
   "id": "c7786a0a-7c12-453f-bd60-0aa73f2ed436",
   "metadata": {},
   "outputs": [],
   "source": [
    "# Seleccionar variables de interés\n",
    "# Usaremos variables comunes que no tienen tantos nulos\n",
    "data = df[[\"pclass\", \"sex\", \"age\", \"fare\", \"alone\", \"survived\"]].dropna()\n",
    "\n",
    "# Codificar variables categóricas\n",
    "label = LabelEncoder()\n",
    "data[\"sex\"] = label.fit_transform(data[\"sex\"])   # male=1, female=0\n",
    "data[\"alone\"] = label.fit_transform(data[\"alone\"]) # True=1, False=0\n",
    "\n",
    "# Separar características y etiqueta\n",
    "X = data.drop(\"survived\", axis=1)\n",
    "y = data[\"survived\"]\n"
   ]
  },
  {
   "cell_type": "code",
   "execution_count": 29,
   "id": "7049f27d-1bd2-4dab-bbd9-63fef3fb9d11",
   "metadata": {},
   "outputs": [],
   "source": [
    "# Dividir en entrenamiento y prueba\n",
    "X_train, X_test, y_train, y_test = train_test_split(\n",
    "    X, y, test_size=0.3, random_state=42\n",
    ")\n",
    "\n",
    "# Escalar datos\n",
    "scaler = StandardScaler()\n",
    "X_train_scaled = scaler.fit_transform(X_train)\n",
    "X_test_scaled = scaler.transform(X_test)\n",
    "\n",
    "# Entrenar Árbol de Decisión\n",
    "dt = DecisionTreeClassifier(random_state=42)\n",
    "dt.fit(X_train, y_train)\n",
    "y_pred_dt = dt.predict(X_test)\n",
    "\n",
    "# Entrenar K-NN (k=5 por defecto)\n",
    "knn = KNeighborsClassifier(n_neighbors=5)\n",
    "knn.fit(X_train_scaled, y_train)\n",
    "y_pred_knn = knn.predict(X_test_scaled)"
   ]
  },
  {
   "cell_type": "code",
   "execution_count": 38,
   "id": "7b7fcdaf-454e-4003-8dc1-95ec5fd14540",
   "metadata": {},
   "outputs": [
    {
     "name": "stdout",
     "output_type": "stream",
     "text": [
      "Árbol de Decisión\n",
      "Accuracy: 0.7441860465116279\n",
      "Matriz de Confusión:\n",
      " [[99 27]\n",
      " [28 61]]\n",
      "Reporte de Clasificación:\n",
      "               precision    recall  f1-score   support\n",
      "\n",
      "           0       0.78      0.79      0.78       126\n",
      "           1       0.69      0.69      0.69        89\n",
      "\n",
      "    accuracy                           0.74       215\n",
      "   macro avg       0.74      0.74      0.74       215\n",
      "weighted avg       0.74      0.74      0.74       215\n",
      "\n",
      "\n",
      "K-NN\n",
      "Accuracy: 0.7813953488372093\n",
      "Matriz de Confusión:\n",
      " [[106  20]\n",
      " [ 27  62]]\n",
      "Reporte de Clasificación:\n",
      "               precision    recall  f1-score   support\n",
      "\n",
      "           0       0.80      0.84      0.82       126\n",
      "           1       0.76      0.70      0.73        89\n",
      "\n",
      "    accuracy                           0.78       215\n",
      "   macro avg       0.78      0.77      0.77       215\n",
      "weighted avg       0.78      0.78      0.78       215\n",
      "\n",
      "\n",
      "Precisión Árbol de Decisión: 0.7441860465116279\n",
      "Precisión K-NN: 0.7813953488372093\n"
     ]
    }
   ],
   "source": [
    "# Evaluación Árbol de Decisión\n",
    "print(\"Árbol de Decisión\")\n",
    "print(\"Accuracy:\", accuracy_score(y_test, y_pred_dt))\n",
    "print(\"Matriz de Confusión:\\n\", confusion_matrix(y_test, y_pred_dt))\n",
    "print(\"Reporte de Clasificación:\\n\", classification_report(y_test, y_pred_dt))\n",
    "\n",
    "# Evaluación K-NN\n",
    "print(\"\\nK-NN\")\n",
    "print(\"Accuracy:\", accuracy_score(y_test, y_pred_knn))\n",
    "print(\"Matriz de Confusión:\\n\", confusion_matrix(y_test, y_pred_knn))\n",
    "print(\"Reporte de Clasificación:\\n\", classification_report(y_test, y_pred_knn))\n",
    "\n",
    "# Comparación de precisión\n",
    "acc_dt = accuracy_score(y_test, y_pred_dt)\n",
    "acc_knn = accuracy_score(y_test, y_pred_knn)\n",
    "\n",
    "print(\"\\nPrecisión Árbol de Decisión:\", acc_dt)\n",
    "print(\"Precisión K-NN:\", acc_knn)\n",
    "\n"
   ]
  }
 ],
 "metadata": {
  "kernelspec": {
   "display_name": "Python 3 (ipykernel)",
   "language": "python",
   "name": "python3"
  },
  "language_info": {
   "codemirror_mode": {
    "name": "ipython",
    "version": 3
   },
   "file_extension": ".py",
   "mimetype": "text/x-python",
   "name": "python",
   "nbconvert_exporter": "python",
   "pygments_lexer": "ipython3",
   "version": "3.11.7"
  }
 },
 "nbformat": 4,
 "nbformat_minor": 5
}
